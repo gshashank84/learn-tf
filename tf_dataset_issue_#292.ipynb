{
  "nbformat": 4,
  "nbformat_minor": 0,
  "metadata": {
    "colab": {
      "name": "Untitled9.ipynb",
      "version": "0.3.2",
      "provenance": [],
      "collapsed_sections": [],
      "include_colab_link": true
    },
    "kernelspec": {
      "name": "python3",
      "display_name": "Python 3"
    }
  },
  "cells": [
    {
      "cell_type": "markdown",
      "metadata": {
        "id": "view-in-github",
        "colab_type": "text"
      },
      "source": [
        "<a href=\"https://colab.research.google.com/github/gshashank84/learn-tf/blob/master/tf_dataset_issue_%23292.ipynb\" target=\"_parent\"><img src=\"https://colab.research.google.com/assets/colab-badge.svg\" alt=\"Open In Colab\"/></a>"
      ]
    },
    {
      "metadata": {
        "id": "axF-59CFOey5",
        "colab_type": "code",
        "colab": {
          "base_uri": "https://localhost:8080/",
          "height": 619
        },
        "outputId": "0f0a6d74-b8b3-4abe-bbb2-cea3c1b8659f"
      },
      "cell_type": "code",
      "source": [
        " !pip install tensorflow==2.0.0-alpha0 "
      ],
      "execution_count": 1,
      "outputs": [
        {
          "output_type": "stream",
          "text": [
            "Collecting tensorflow==2.0.0-alpha0\n",
            "\u001b[?25l  Downloading https://files.pythonhosted.org/packages/29/39/f99185d39131b8333afcfe1dcdb0629c2ffc4ecfb0e4c14ca210d620e56c/tensorflow-2.0.0a0-cp36-cp36m-manylinux1_x86_64.whl (79.9MB)\n",
            "\u001b[K    100% |████████████████████████████████| 79.9MB 433kB/s \n",
            "\u001b[?25hCollecting google-pasta>=0.1.2 (from tensorflow==2.0.0-alpha0)\n",
            "\u001b[?25l  Downloading https://files.pythonhosted.org/packages/8c/96/adbd4eafe72ce9b5ca6f168fbf109386e1b601f7c59926a11e9d7b7a5b44/google_pasta-0.1.4-py3-none-any.whl (51kB)\n",
            "\u001b[K    100% |████████████████████████████████| 61kB 22.6MB/s \n",
            "\u001b[?25hRequirement already satisfied: gast>=0.2.0 in /usr/local/lib/python3.6/dist-packages (from tensorflow==2.0.0-alpha0) (0.2.2)\n",
            "Collecting tf-estimator-nightly<1.14.0.dev2019030116,>=1.14.0.dev2019030115 (from tensorflow==2.0.0-alpha0)\n",
            "\u001b[?25l  Downloading https://files.pythonhosted.org/packages/13/82/f16063b4eed210dc2ab057930ac1da4fbe1e91b7b051a6c8370b401e6ae7/tf_estimator_nightly-1.14.0.dev2019030115-py2.py3-none-any.whl (411kB)\n",
            "\u001b[K    100% |████████████████████████████████| 419kB 20.8MB/s \n",
            "\u001b[?25hRequirement already satisfied: numpy<2.0,>=1.14.5 in /usr/local/lib/python3.6/dist-packages (from tensorflow==2.0.0-alpha0) (1.14.6)\n",
            "Requirement already satisfied: keras-applications>=1.0.6 in /usr/local/lib/python3.6/dist-packages (from tensorflow==2.0.0-alpha0) (1.0.7)\n",
            "Requirement already satisfied: absl-py>=0.7.0 in /usr/local/lib/python3.6/dist-packages (from tensorflow==2.0.0-alpha0) (0.7.1)\n",
            "Requirement already satisfied: keras-preprocessing>=1.0.5 in /usr/local/lib/python3.6/dist-packages (from tensorflow==2.0.0-alpha0) (1.0.9)\n",
            "Collecting tb-nightly<1.14.0a20190302,>=1.14.0a20190301 (from tensorflow==2.0.0-alpha0)\n",
            "\u001b[?25l  Downloading https://files.pythonhosted.org/packages/a9/51/aa1d756644bf4624c03844115e4ac4058eff77acd786b26315f051a4b195/tb_nightly-1.14.0a20190301-py3-none-any.whl (3.0MB)\n",
            "\u001b[K    100% |████████████████████████████████| 3.0MB 12.0MB/s \n",
            "\u001b[?25hRequirement already satisfied: grpcio>=1.8.6 in /usr/local/lib/python3.6/dist-packages (from tensorflow==2.0.0-alpha0) (1.15.0)\n",
            "Requirement already satisfied: astor>=0.6.0 in /usr/local/lib/python3.6/dist-packages (from tensorflow==2.0.0-alpha0) (0.7.1)\n",
            "Requirement already satisfied: protobuf>=3.6.1 in /usr/local/lib/python3.6/dist-packages (from tensorflow==2.0.0-alpha0) (3.7.0)\n",
            "Requirement already satisfied: termcolor>=1.1.0 in /usr/local/lib/python3.6/dist-packages (from tensorflow==2.0.0-alpha0) (1.1.0)\n",
            "Requirement already satisfied: wheel>=0.26 in /usr/local/lib/python3.6/dist-packages (from tensorflow==2.0.0-alpha0) (0.33.1)\n",
            "Requirement already satisfied: six>=1.10.0 in /usr/local/lib/python3.6/dist-packages (from tensorflow==2.0.0-alpha0) (1.11.0)\n",
            "Requirement already satisfied: h5py in /usr/local/lib/python3.6/dist-packages (from keras-applications>=1.0.6->tensorflow==2.0.0-alpha0) (2.8.0)\n",
            "Requirement already satisfied: markdown>=2.6.8 in /usr/local/lib/python3.6/dist-packages (from tb-nightly<1.14.0a20190302,>=1.14.0a20190301->tensorflow==2.0.0-alpha0) (3.0.1)\n",
            "Requirement already satisfied: werkzeug>=0.11.15 in /usr/local/lib/python3.6/dist-packages (from tb-nightly<1.14.0a20190302,>=1.14.0a20190301->tensorflow==2.0.0-alpha0) (0.14.1)\n",
            "Requirement already satisfied: setuptools in /usr/local/lib/python3.6/dist-packages (from protobuf>=3.6.1->tensorflow==2.0.0-alpha0) (40.8.0)\n",
            "Installing collected packages: google-pasta, tf-estimator-nightly, tb-nightly, tensorflow\n",
            "  Found existing installation: tensorflow 1.13.1\n",
            "    Uninstalling tensorflow-1.13.1:\n",
            "      Successfully uninstalled tensorflow-1.13.1\n",
            "Successfully installed google-pasta-0.1.4 tb-nightly-1.14.0a20190301 tensorflow-2.0.0a0 tf-estimator-nightly-1.14.0.dev2019030115\n"
          ],
          "name": "stdout"
        }
      ]
    },
    {
      "metadata": {
        "id": "HH-wj2F0OjLY",
        "colab_type": "code",
        "colab": {
          "base_uri": "https://localhost:8080/",
          "height": 35
        },
        "outputId": "bc7fdff4-63e4-4907-d336-7a9837c1b85c"
      },
      "cell_type": "code",
      "source": [
        "import tensorflow as tf\n",
        "tf.__version__"
      ],
      "execution_count": 2,
      "outputs": [
        {
          "output_type": "execute_result",
          "data": {
            "text/plain": [
              "'2.0.0-alpha0'"
            ]
          },
          "metadata": {
            "tags": []
          },
          "execution_count": 2
        }
      ]
    },
    {
      "metadata": {
        "id": "Eq51XBthOqZt",
        "colab_type": "code",
        "colab": {
          "base_uri": "https://localhost:8080/",
          "height": 72
        },
        "outputId": "461033a3-7fad-4cf3-abcc-421eb5450a0e"
      },
      "cell_type": "code",
      "source": [
        "import tensorflow_datasets as tfds\n",
        "\n",
        "test_split, valid_split, train_split = tfds.Split.TRAIN.subsplit([10,15,75])\n",
        "#test_split, valid_split = tfds.Split.TRAIN.subsplit(k=2)\n",
        "\n",
        "test_set = tfds.load(\"tf_flowers\", split=test_split, as_supervised=True)\n",
        "valid_set = tfds.load(\"tf_flowers\", split=valid_split, as_supervised=True)\n",
        "train_set = tfds.load(\"tf_flowers\", split=tfds.Split.TRAIN, as_supervised=True, as_dataset_kwargs={'shuffle_files':True})\n",
        "\n",
        "def dataset_length(dataset):\n",
        "    count = 0\n",
        "    for image in dataset:\n",
        "        count += 1\n",
        "    return count\n",
        "\n",
        "print(dataset_length(test_set)) # 400\n",
        "print(dataset_length(valid_set)) # 600\n",
        "print(dataset_length(train_set)) # 2670\n",
        "#367, 550 and 2753"
      ],
      "execution_count": 137,
      "outputs": [
        {
          "output_type": "stream",
          "text": [
            "400\n",
            "600\n",
            "3670\n"
          ],
          "name": "stdout"
        }
      ]
    },
    {
      "metadata": {
        "id": "Foh9CJAHhubK",
        "colab_type": "code",
        "colab": {
          "base_uri": "https://localhost:8080/",
          "height": 35
        },
        "outputId": "93a25663-0c1d-41cf-ada2-e2f4a7ec5810"
      },
      "cell_type": "code",
      "source": [
        "test_split == tfds.Split.TRAIN"
      ],
      "execution_count": 134,
      "outputs": [
        {
          "output_type": "execute_result",
          "data": {
            "text/plain": [
              "False"
            ]
          },
          "metadata": {
            "tags": []
          },
          "execution_count": 134
        }
      ]
    },
    {
      "metadata": {
        "id": "KdzNWwLkjCpt",
        "colab_type": "code",
        "colab": {}
      },
      "cell_type": "code",
      "source": [
        "o.as_json.split() #3670 total"
      ],
      "execution_count": 0,
      "outputs": []
    },
    {
      "metadata": {
        "id": "TitJuCIFmP0N",
        "colab_type": "code",
        "colab": {
          "base_uri": "https://localhost:8080/",
          "height": 35
        },
        "outputId": "4770180c-9697-4396-9195-28287cc41dc2"
      },
      "cell_type": "code",
      "source": [
        "2000/3670"
      ],
      "execution_count": 123,
      "outputs": [
        {
          "output_type": "execute_result",
          "data": {
            "text/plain": [
              "0.5449591280653951"
            ]
          },
          "metadata": {
            "tags": []
          },
          "execution_count": 123
        }
      ]
    },
    {
      "metadata": {
        "id": "VIyX7gn3ozDv",
        "colab_type": "code",
        "colab": {
          "base_uri": "https://localhost:8080/",
          "height": 35
        },
        "outputId": "ef9c9f1b-78dc-4596-c6d2-81b4d66d8898"
      },
      "cell_type": "code",
      "source": [
        "a = {}\n",
        "dict(a)"
      ],
      "execution_count": 125,
      "outputs": [
        {
          "output_type": "execute_result",
          "data": {
            "text/plain": [
              "{}"
            ]
          },
          "metadata": {
            "tags": []
          },
          "execution_count": 125
        }
      ]
    },
    {
      "metadata": {
        "id": "xGJ7rvrVqIH5",
        "colab_type": "code",
        "colab": {}
      },
      "cell_type": "code",
      "source": [
        ""
      ],
      "execution_count": 0,
      "outputs": []
    },
    {
      "metadata": {
        "id": "r0Z9852fOuNj",
        "colab_type": "code",
        "colab": {}
      },
      "cell_type": "code",
      "source": [
        "tfds.load??"
      ],
      "execution_count": 0,
      "outputs": []
    },
    {
      "metadata": {
        "id": "tlyhbCTNPIB2",
        "colab_type": "code",
        "colab": {}
      },
      "cell_type": "code",
      "source": [
        "tfds.Split.TRAIN.subsplit??"
      ],
      "execution_count": 0,
      "outputs": []
    },
    {
      "metadata": {
        "id": "Nyw4PFx_R7xO",
        "colab_type": "code",
        "colab": {}
      },
      "cell_type": "code",
      "source": [
        "    def assert_slices_coverage(slices):\n",
        "      # Ensure that the expended slices cover all percents.\n",
        "      assert (\n",
        "          sum((list(range(*s.indices(100))) for s in slices), []) ==\n",
        "          list(range(100))\n",
        "      )"
      ],
      "execution_count": 0,
      "outputs": []
    },
    {
      "metadata": {
        "id": "oLAW_MSpSvJs",
        "colab_type": "code",
        "colab": {
          "base_uri": "https://localhost:8080/",
          "height": 35
        },
        "outputId": "b4cc4508-7f49-48d7-a789-850604592278"
      },
      "cell_type": "code",
      "source": [
        "k = 3\n",
        "\n",
        "if k:\n",
        "      if not 0 < k <= 100:\n",
        "        raise ValueError(\n",
        "            \"Subsplit k should be between 0 and 100, got {}\".format(k))\n",
        "      shift = 100 // k\n",
        "      slices = [slice(i * shift, (i + 1) * shift) for i in range(k)]\n",
        "      # Round up last element to ensure all elements are taken\n",
        "      slices[-1] = slice(slices[-1].start, 100)\n",
        "      # Internal check to ensure full coverage\n",
        "      assert_slices_coverage(slices)\n",
        "      #return tuple(_SubSplit(self, s) for s in slices)\n",
        "      print(slices)"
      ],
      "execution_count": 74,
      "outputs": [
        {
          "output_type": "stream",
          "text": [
            "[slice(0, 33, None), slice(33, 66, None), slice(66, 100, None)]\n"
          ],
          "name": "stdout"
        }
      ]
    },
    {
      "metadata": {
        "id": "aBnf0N1gUK_a",
        "colab_type": "code",
        "colab": {
          "base_uri": "https://localhost:8080/",
          "height": 35
        },
        "outputId": "079da7d6-2acd-4c87-a083-7f240b327ff1"
      },
      "cell_type": "code",
      "source": [
        "tuple(s for s in slices)"
      ],
      "execution_count": 20,
      "outputs": [
        {
          "output_type": "execute_result",
          "data": {
            "text/plain": [
              "(slice(0, 33, None), slice(33, 66, None), slice(66, 100, None))"
            ]
          },
          "metadata": {
            "tags": []
          },
          "execution_count": 20
        }
      ]
    },
    {
      "metadata": {
        "id": "n1fU-xDWUsqD",
        "colab_type": "code",
        "colab": {
          "base_uri": "https://localhost:8080/",
          "height": 54
        },
        "outputId": "de74d5fd-de60-46a2-b2fe-a340ab137402"
      },
      "cell_type": "code",
      "source": [
        "weighted = [10,15,75]\n",
        "\n",
        "\n",
        "if weighted:\n",
        "      # Normalize the weighted sum\n",
        "      total = sum(weighted)\n",
        "      weighted = [100 * x // total for x in weighted]\n",
        "      print(weighted)\n",
        "      # Create the slice for each of the elements\n",
        "      start = 0\n",
        "      stop = 0\n",
        "      slices = []\n",
        "      for v in weighted:\n",
        "        stop += v\n",
        "        slices.append(slice(start, stop))\n",
        "        start = stop\n",
        "      # Round up last element to ensure all elements are taken\n",
        "      slices[-1] = slice(slices[-1].start, 100)\n",
        "      # Internal check to ensure full coverage\n",
        "      assert_slices_coverage(slices)\n",
        "      #return tuple(_SubSplit(self, s) for s in slices)\n",
        "      print(tuple(s for s in slices))"
      ],
      "execution_count": 85,
      "outputs": [
        {
          "output_type": "stream",
          "text": [
            "[10, 15, 75]\n",
            "(slice(0, 10, None), slice(10, 25, None), slice(25, 100, None))\n"
          ],
          "name": "stdout"
        }
      ]
    },
    {
      "metadata": {
        "id": "TdPDlVeRUaaz",
        "colab_type": "code",
        "colab": {}
      },
      "cell_type": "code",
      "source": [
        "[x for x in range(100)][slices[2]]"
      ],
      "execution_count": 0,
      "outputs": []
    },
    {
      "metadata": {
        "id": "JGWyH8BfVk6T",
        "colab_type": "code",
        "colab": {}
      },
      "cell_type": "code",
      "source": [
        "percent = [10, 15, 75]\n",
        "\n",
        "if type(percent) != slice:\n",
        "  \n",
        "  if sum(percent) != 100:\n",
        "    raise ValueError (\"Total percentage must be equal to 100, getting {}\".format(sum(percent)))"
      ],
      "execution_count": 0,
      "outputs": []
    },
    {
      "metadata": {
        "id": "bqJRl9s0XLuW",
        "colab_type": "code",
        "colab": {
          "base_uri": "https://localhost:8080/",
          "height": 35
        },
        "outputId": "49941f1a-e6f0-47ce-de00-1a6bda375bd2"
      },
      "cell_type": "code",
      "source": [
        "start = 0\n",
        "slices = []\n",
        "for x in percent:\n",
        "  slices.append(slice(start,x))\n",
        "  start = x\n",
        "# Round up last element to ensure all elements are taken\n",
        "slices[-1] = slice(slices[-1].start, 100)\n",
        "print(slices)"
      ],
      "execution_count": 70,
      "outputs": [
        {
          "output_type": "stream",
          "text": [
            "[slice(0, 10, None), slice(10, 15, None), slice(15, 100, None)]\n"
          ],
          "name": "stdout"
        }
      ]
    },
    {
      "metadata": {
        "id": "9G3hkBVjZOYJ",
        "colab_type": "code",
        "colab": {
          "base_uri": "https://localhost:8080/",
          "height": 35
        },
        "outputId": "9bfa6f40-1349-4566-9e2d-c2707047ed15"
      },
      "cell_type": "code",
      "source": [
        "if type([10,20,30]) != slice:\n",
        "  print('I am here')"
      ],
      "execution_count": 58,
      "outputs": [
        {
          "output_type": "stream",
          "text": [
            "I am here\n"
          ],
          "name": "stdout"
        }
      ]
    },
    {
      "metadata": {
        "id": "0pbiUu0IZhj5",
        "colab_type": "code",
        "colab": {
          "base_uri": "https://localhost:8080/",
          "height": 35
        },
        "outputId": "7bc24426-bfbe-4c63-a404-1e296626e98c"
      },
      "cell_type": "code",
      "source": [
        "type(tfds.percent[-20:])"
      ],
      "execution_count": 52,
      "outputs": [
        {
          "output_type": "execute_result",
          "data": {
            "text/plain": [
              "slice"
            ]
          },
          "metadata": {
            "tags": []
          },
          "execution_count": 52
        }
      ]
    },
    {
      "metadata": {
        "id": "CZUdzcHUZ37q",
        "colab_type": "code",
        "colab": {
          "base_uri": "https://localhost:8080/",
          "height": 35
        },
        "outputId": "a99a172b-227a-439e-97ff-09e0e857888e"
      },
      "cell_type": "code",
      "source": [
        "tfds.percent[75:-5]"
      ],
      "execution_count": 78,
      "outputs": [
        {
          "output_type": "execute_result",
          "data": {
            "text/plain": [
              "slice(75, -5, None)"
            ]
          },
          "metadata": {
            "tags": []
          },
          "execution_count": 78
        }
      ]
    },
    {
      "metadata": {
        "id": "WWw-FbshgOLT",
        "colab_type": "code",
        "colab": {}
      },
      "cell_type": "code",
      "source": [
        ""
      ],
      "execution_count": 0,
      "outputs": []
    }
  ]
}