{
  "nbformat": 4,
  "nbformat_minor": 0,
  "metadata": {
    "colab": {
      "name": "Untitled10.ipynb",
      "version": "0.3.2",
      "provenance": [],
      "include_colab_link": true
    },
    "kernelspec": {
      "name": "python3",
      "display_name": "Python 3"
    },
    "accelerator": "GPU"
  },
  "cells": [
    {
      "cell_type": "markdown",
      "metadata": {
        "id": "view-in-github",
        "colab_type": "text"
      },
      "source": [
        "<a href=\"https://colab.research.google.com/github/gshashank84/learn-tf/blob/master/tf_keras_layers_StackedRNN.ipynb\" target=\"_parent\"><img src=\"https://colab.research.google.com/assets/colab-badge.svg\" alt=\"Open In Colab\"/></a>"
      ]
    },
    {
      "metadata": {
        "id": "m7rJ5z7t4lOz",
        "colab_type": "code",
        "outputId": "95aac524-4858-4fb8-eb3a-64fee9791b3c",
        "colab": {
          "base_uri": "https://localhost:8080/",
          "height": 35
        }
      },
      "cell_type": "code",
      "source": [
        "\n",
        "import tensorflow as tf\n",
        "tf.__version__"
      ],
      "execution_count": 0,
      "outputs": [
        {
          "output_type": "execute_result",
          "data": {
            "text/plain": [
              "'2.0.0-alpha0'"
            ]
          },
          "metadata": {
            "tags": []
          },
          "execution_count": 3
        }
      ]
    },
    {
      "metadata": {
        "id": "oa2CJlLY4qPt",
        "colab_type": "code",
        "outputId": "abafc110-38a8-4c34-f915-196ae3529576",
        "colab": {
          "base_uri": "https://localhost:8080/",
          "height": 207
        }
      },
      "cell_type": "code",
      "source": [
        "import tensorflow.keras as tk\n",
        "output_dim = 64\n",
        "\n",
        "lstm = [tk.layers.LSTMCell(output_dim),\n",
        "        tk.layers.LSTMCell(output_dim),\n",
        "        tk.layers.LSTMCell(output_dim),\n",
        "       ]\n",
        "#cells = tk.layers.StackedRNNCells(lstm)\n",
        "stacked_rnn_cell = MultiRNNCell(cells)\n"
      ],
      "execution_count": 0,
      "outputs": [
        {
          "output_type": "error",
          "ename": "NameError",
          "evalue": "ignored",
          "traceback": [
            "\u001b[0;31m---------------------------------------------------------------------------\u001b[0m",
            "\u001b[0;31mNameError\u001b[0m                                 Traceback (most recent call last)",
            "\u001b[0;32m<ipython-input-2-f7d3d67d6951>\u001b[0m in \u001b[0;36m<module>\u001b[0;34m()\u001b[0m\n\u001b[1;32m      7\u001b[0m        ]\n\u001b[1;32m      8\u001b[0m \u001b[0;31m#cells = tk.layers.StackedRNNCells(lstm)\u001b[0m\u001b[0;34m\u001b[0m\u001b[0;34m\u001b[0m\u001b[0;34m\u001b[0m\u001b[0m\n\u001b[0;32m----> 9\u001b[0;31m \u001b[0mstacked_rnn_cell\u001b[0m \u001b[0;34m=\u001b[0m \u001b[0mMultiRNNCell\u001b[0m\u001b[0;34m(\u001b[0m\u001b[0mcells\u001b[0m\u001b[0;34m)\u001b[0m\u001b[0;34m\u001b[0m\u001b[0;34m\u001b[0m\u001b[0m\n\u001b[0m",
            "\u001b[0;31mNameError\u001b[0m: name 'MultiRNNCell' is not defined"
          ]
        }
      ]
    },
    {
      "metadata": {
        "id": "r8jx9AJn43dX",
        "colab_type": "code",
        "colab": {}
      },
      "cell_type": "code",
      "source": [
        "tk.layers.CuDNNLSTM??"
      ],
      "execution_count": 0,
      "outputs": []
    },
    {
      "metadata": {
        "id": "64Nj-Rgh4tnm",
        "colab_type": "code",
        "colab": {}
      },
      "cell_type": "code",
      "source": [
        "tk.layers.StackedRNNCells??"
      ],
      "execution_count": 0,
      "outputs": []
    },
    {
      "metadata": {
        "id": "Vzg7EQu96TAI",
        "colab_type": "code",
        "outputId": "3e03984e-5cc9-44c3-c0bc-85e6fd4d70d1",
        "colab": {
          "base_uri": "https://localhost:8080/",
          "height": 72
        }
      },
      "cell_type": "code",
      "source": [
        "import numpy as np\n",
        "np.random.random((3,3))"
      ],
      "execution_count": 0,
      "outputs": [
        {
          "output_type": "execute_result",
          "data": {
            "text/plain": [
              "array([[0.08996937, 0.9679044 , 0.89521664],\n",
              "       [0.16898277, 0.07592724, 0.50043787],\n",
              "       [0.64405507, 0.38330628, 0.07116874]])"
            ]
          },
          "metadata": {
            "tags": []
          },
          "execution_count": 15
        }
      ]
    },
    {
      "metadata": {
        "id": "s4PmECzTDM7K",
        "colab_type": "code",
        "outputId": "eeb15128-09eb-4633-a2a7-1f58e649e75e",
        "colab": {
          "base_uri": "https://localhost:8080/",
          "height": 35
        }
      },
      "cell_type": "code",
      "source": [
        "import tensorflow.keras as keras\n",
        "import numpy as np\n",
        "\n",
        "timesteps = 60\n",
        "input_dim = 64\n",
        "samples = 10000\n",
        "batch_size = 128\n",
        "output_dim = 64\n",
        "\n",
        "# Test data.\n",
        "x_np = np.random.random((samples, timesteps, input_dim))\n",
        "y_np = np.random.random((samples, output_dim))\n",
        "\n",
        "print('Classic stacked LSTM: 35s/epoch on CPU')\n",
        "inputs = keras.Input((timesteps, input_dim))\n",
        "cells = [keras.layers.LSTMCell(_) for _ in [128,64]]\n",
        "#x = keras.layers.StackedRNNCells(cell) (inputs, )\n",
        "x = keras.layers.RNN(cells)(inputs)"
      ],
      "execution_count": 0,
      "outputs": [
        {
          "output_type": "stream",
          "text": [
            "Classic stacked LSTM: 35s/epoch on CPU\n"
          ],
          "name": "stdout"
        }
      ]
    },
    {
      "metadata": {
        "id": "NeDINl_YEE5u",
        "colab_type": "code",
        "colab": {}
      },
      "cell_type": "code",
      "source": [
        "classic_model = keras.models.Model(inputs, x)\n",
        "classic_model.compile(optimizer='rmsprop', loss='mse')\n",
        "classic_model.fit(x_np, y_np, batch_size=batch_size, epochs=4)\n"
      ],
      "execution_count": 0,
      "outputs": []
    }
  ]
}